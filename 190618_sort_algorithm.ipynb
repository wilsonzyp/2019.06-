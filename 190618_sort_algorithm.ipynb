{
 "cells": [
  {
   "cell_type": "code",
   "execution_count": 3,
   "metadata": {},
   "outputs": [],
   "source": [
    "import random"
   ]
  },
  {
   "cell_type": "markdown",
   "metadata": {},
   "source": [
    "# 1. 冒泡排序"
   ]
  },
  {
   "cell_type": "code",
   "execution_count": 20,
   "metadata": {},
   "outputs": [
    {
     "name": "stdout",
     "output_type": "stream",
     "text": [
      "raw_list:  [17, 88, 65, 45, 86, 59, 30, 61, 33, 62, 67, 29, 71, 48, 74, 57, 39, 59, 44, 37, 21, 33, 59, 46, 64, 98, 22, 40, 89, 47, 53, 96, 14, 71, 46, 44, 51, 77, 74, 37, 20, 47, 44, 15, 93, 17, 41, 36, 66, 100, 27, 84, 90, 80, 62, 83, 3, 76, 98, 43, 53, 93, 40, 25, 5, 29, 78, 19, 97, 9, 14, 7, 12, 20, 89, 86, 21, 43, 70, 1, 57, 97, 63, 2, 96, 46, 86, 63, 7, 4, 28, 55, 97, 56, 2, 99, 98, 4, 70, 20]\n",
      "====================\n",
      "sort_list: [1, 2, 2, 3, 4, 4, 5, 7, 7, 9, 12, 14, 14, 15, 17, 17, 19, 20, 20, 20, 21, 21, 22, 25, 27, 28, 29, 29, 30, 33, 33, 36, 37, 37, 39, 40, 40, 41, 43, 43, 44, 44, 44, 45, 46, 46, 46, 47, 47, 48, 51, 53, 53, 55, 56, 57, 57, 59, 59, 59, 61, 62, 62, 63, 63, 64, 65, 66, 67, 70, 70, 71, 71, 74, 74, 76, 77, 78, 80, 83, 84, 86, 86, 86, 88, 89, 89, 90, 93, 93, 96, 96, 97, 97, 97, 98, 98, 98, 99, 100]\n"
     ]
    }
   ],
   "source": [
    "def bubble_sort(raw_list):\n",
    "    for i in range(len(raw_list)-1):\n",
    "        flag = True    # 此处设置标记，如果在后面都没有交换排序，说明后面都排好了\n",
    "        for j in range(len(raw_list)-i-1):\n",
    "            if raw_list[j]>raw_list[j+1]:   # 注意这里是两个j！！！\n",
    "                raw_list[j],raw_list[j+1] = raw_list[j+1],raw_list[j]\n",
    "                flag = False\n",
    "        if flag:\n",
    "            return raw_list\n",
    "    return raw_list\n",
    "\n",
    "raw_list = [random.randint(1,100) for _ in range(100)]\n",
    "print('raw_list: ',raw_list)\n",
    "print('='*20)\n",
    "bubble_sort(raw_list)\n",
    "print('sort_list:',raw_list)"
   ]
  },
  {
   "cell_type": "markdown",
   "metadata": {},
   "source": [
    "# 2. 快速排序"
   ]
  },
  {
   "cell_type": "code",
   "execution_count": 24,
   "metadata": {},
   "outputs": [
    {
     "name": "stdout",
     "output_type": "stream",
     "text": [
      "raw_list:  [34, 96, 14, 54, 93, 57, 40, 37, 33, 55, 94, 56, 64, 59, 49, 82, 93, 27, 11, 68, 9, 56, 18, 32, 6, 79, 72, 21, 39, 21, 99, 76, 3, 87, 1, 77, 9, 75, 12, 71, 69, 89, 6, 40, 84, 19, 46, 92, 5, 24, 91, 92, 61, 45, 36, 40, 39, 58, 22, 84, 66, 5, 94, 87, 21, 42, 9, 95, 13, 32, 47, 47, 34, 24, 33, 81, 29, 21, 13, 1, 46, 47, 25, 73, 27, 62, 89, 74, 66, 56, 76, 5, 11, 51, 14, 57, 29, 15, 9, 70]\n",
      "====================\n",
      "sort_list: [1, 1, 3, 5, 5, 5, 6, 6, 9, 9, 9, 9, 11, 11, 12, 13, 13, 14, 14, 15, 18, 19, 21, 21, 21, 21, 22, 24, 24, 25, 27, 27, 29, 29, 32, 32, 33, 33, 34, 34, 36, 37, 39, 39, 40, 40, 40, 42, 45, 46, 46, 47, 47, 47, 49, 51, 54, 55, 56, 56, 56, 57, 57, 58, 59, 61, 62, 64, 66, 66, 68, 69, 70, 71, 72, 73, 74, 75, 76, 76, 77, 79, 81, 82, 84, 84, 87, 87, 89, 89, 91, 92, 92, 93, 93, 94, 94, 95, 96, 99]\n"
     ]
    }
   ],
   "source": [
    "def quick_sort(raw_list):\n",
    "    if len(raw_list) <= 1:\n",
    "        return raw_list\n",
    "    else:\n",
    "        flag = random.randint(1,len(raw_list)-1)\n",
    "        left_list = []\n",
    "        right_list = []\n",
    "        for i in range(len(raw_list)):\n",
    "            if i != flag:\n",
    "                if raw_list[i] <= raw_list[flag]:\n",
    "                    left_list.append(raw_list[i])\n",
    "                else:\n",
    "                    right_list.append(raw_list[i])\n",
    "        return quick_sort(left_list)+[raw_list[flag]]+quick_sort(right_list)\n",
    "raw_list = [random.randint(1,100) for _ in range(100)]\n",
    "print('raw_list: ',raw_list)\n",
    "print('='*20)\n",
    "print('sort_list:',quick_sort(raw_list))    "
   ]
  },
  {
   "cell_type": "markdown",
   "metadata": {},
   "source": [
    "# 3. 归并排序"
   ]
  },
  {
   "cell_type": "code",
   "execution_count": 42,
   "metadata": {},
   "outputs": [],
   "source": [
    "def merge(list1,list2):\n",
    "    merge_list = []\n",
    "    while list1 and list2:\n",
    "        if list1[0]<=list2[0]:\n",
    "            merge_list.append(list1[0])\n",
    "            list1.pop(0)\n",
    "        else:\n",
    "            merge_list.append(list2[0])\n",
    "            list2.pop(0)\n",
    "    if list1:\n",
    "        merge_list = merge_list + list1\n",
    "    if list2:\n",
    "        merge_list = merge_list + list2\n",
    "    return merge_list"
   ]
  },
  {
   "cell_type": "code",
   "execution_count": 43,
   "metadata": {},
   "outputs": [],
   "source": [
    "def merge_sort(raw_list):\n",
    "    if len(raw_list)<=1:\n",
    "        return raw_list\n",
    "    middle = int(len(raw_list)/2)\n",
    "    return merge(merge_sort(raw_list[:middle]),merge_sort(raw_list[middle:]))   # 注意左边数组：middle，右边也是middle："
   ]
  },
  {
   "cell_type": "code",
   "execution_count": 44,
   "metadata": {},
   "outputs": [
    {
     "name": "stdout",
     "output_type": "stream",
     "text": [
      "raw_list:  [4, 58, 44, 65, 69, 96, 44, 10, 78, 29, 51, 86, 47, 40, 97, 97, 2, 67, 81, 72, 45, 60, 66, 35, 18, 38, 52, 84, 32, 97, 95, 93, 62, 17, 70, 12, 38, 39, 67, 14, 87, 87, 40, 10, 93, 53, 68, 7, 23, 87, 12, 71, 63, 39, 55, 87, 90, 74, 47, 72, 7, 5, 98, 61, 72, 57, 56, 56, 66, 32, 69, 1, 14, 80, 74, 71, 56, 13, 82, 31, 51, 99, 11, 7, 87, 96, 93, 60, 11, 66, 95, 1, 91, 78, 92, 38, 11, 17, 63, 10]\n",
      "====================\n",
      "sort_list: [1, 1, 2, 4, 5, 7, 7, 7, 10, 10, 10, 11, 11, 11, 12, 12, 13, 14, 14, 17, 17, 18, 23, 29, 31, 32, 32, 35, 38, 38, 38, 39, 39, 40, 40, 44, 44, 45, 47, 47, 51, 51, 52, 53, 55, 56, 56, 56, 57, 58, 60, 60, 61, 62, 63, 63, 65, 66, 66, 66, 67, 67, 68, 69, 69, 70, 71, 71, 72, 72, 72, 74, 74, 78, 78, 80, 81, 82, 84, 86, 87, 87, 87, 87, 87, 90, 91, 92, 93, 93, 93, 95, 95, 96, 96, 97, 97, 97, 98, 99]\n"
     ]
    }
   ],
   "source": [
    "raw_list = [random.randint(1,100) for _ in range(100)]\n",
    "print('raw_list: ',raw_list)\n",
    "print('='*20)\n",
    "print('sort_list:',merge_sort(raw_list))    "
   ]
  },
  {
   "cell_type": "markdown",
   "metadata": {},
   "source": [
    "# 4. 选择排序"
   ]
  },
  {
   "cell_type": "code",
   "execution_count": 5,
   "metadata": {},
   "outputs": [],
   "source": [
    "def select_sort(raw_list):\n",
    "    for i in range(len(raw_list)):\n",
    "        minimum = raw_list[i]\n",
    "        minimum_index = i\n",
    "        for j in range(len(raw_list)-i-1):\n",
    "            if minimum > raw_list[j+i+1]:\n",
    "                minimum = raw_list[j+i+1]\n",
    "                minimum_index = j+i+1\n",
    "        if minimum_index > i:\n",
    "            raw_list[i],raw_list[minimum_index] = raw_list[minimum_index],raw_list[i]  \n",
    "    return raw_list"
   ]
  },
  {
   "cell_type": "code",
   "execution_count": 6,
   "metadata": {},
   "outputs": [
    {
     "name": "stdout",
     "output_type": "stream",
     "text": [
      "raw_list:  [7, 44, 47, 15, 35, 8, 5, 35, 17, 5, 65, 93, 59, 16, 30, 86, 17, 76, 52, 33, 72, 5, 94, 24, 79, 19, 67, 49, 12, 90, 4, 39, 65, 23, 97, 9, 20, 20, 98, 83, 41, 98, 47, 19, 12, 92, 7, 3, 29, 97, 88, 96, 60, 93, 66, 40, 73, 90, 70, 34, 56, 73, 20, 73, 38, 67, 59, 16, 30, 32, 58, 77, 84, 48, 38, 42, 83, 9, 46, 54, 40, 36, 93, 48, 35, 74, 59, 19, 33, 86, 37, 44, 52, 89, 33, 63, 67, 51, 35, 89]\n",
      "====================\n",
      "sort_list: [3, 4, 5, 5, 5, 7, 7, 8, 9, 9, 12, 12, 15, 16, 16, 17, 17, 19, 19, 19, 20, 20, 20, 23, 24, 29, 30, 30, 32, 33, 33, 33, 34, 35, 35, 35, 35, 36, 37, 38, 38, 39, 40, 40, 41, 42, 44, 44, 46, 47, 47, 48, 48, 49, 51, 52, 52, 54, 56, 58, 59, 59, 59, 60, 63, 65, 65, 66, 67, 67, 67, 70, 72, 73, 73, 73, 74, 76, 77, 79, 83, 83, 84, 86, 86, 88, 89, 89, 90, 90, 92, 93, 93, 93, 94, 96, 97, 97, 98, 98]\n"
     ]
    }
   ],
   "source": [
    "raw_list = [random.randint(1,100) for _ in range(100)]\n",
    "print('raw_list: ',raw_list)\n",
    "print('='*20)\n",
    "print('sort_list:',select_sort(raw_list))    "
   ]
  },
  {
   "cell_type": "markdown",
   "metadata": {},
   "source": [
    "# 5. 插入排序\n",
    "## ***重点***"
   ]
  },
  {
   "cell_type": "code",
   "execution_count": 14,
   "metadata": {},
   "outputs": [],
   "source": [
    "from typing import List\n",
    "def insert_sort(raw_list:List[int]):\n",
    "    for i in range(1, len(raw_list)):\n",
    "        pivot = raw_list[i]\n",
    "        j = i-1\n",
    "        while j >= 0 and raw_list[j] > pivot:\n",
    "            raw_list[j+1] = raw_list[j]\n",
    "            j -= 1\n",
    "        raw_list[j+1] = pivot\n",
    "    return raw_list"
   ]
  },
  {
   "cell_type": "code",
   "execution_count": 17,
   "metadata": {},
   "outputs": [
    {
     "name": "stdout",
     "output_type": "stream",
     "text": [
      "raw_list:  [98, 3, 70, 97, 68, 34, 63, 72, 89, 52, 94, 42, 42, 79, 13, 37, 97, 24, 82, 80, 28, 30, 94, 33, 72, 76, 54, 40, 11, 53, 38, 42, 86, 77, 73, 3, 53, 26, 81, 93, 12, 71, 3, 77, 5, 41, 28, 99, 96, 12, 47, 99, 8, 78, 37, 86, 60, 38, 48, 91, 59, 93, 69, 40, 90, 34, 95, 81, 38, 90, 38, 29, 60, 99, 8, 77, 72, 52, 84, 39, 3, 17, 52, 1, 32, 40, 68, 12, 84, 25, 46, 57, 8, 5, 59, 29, 50, 61, 99, 98]\n",
      "====================\n",
      "sort_list: [1, 3, 3, 3, 3, 5, 5, 8, 8, 8, 11, 12, 12, 12, 13, 17, 24, 25, 26, 28, 28, 29, 29, 30, 32, 33, 34, 34, 37, 37, 38, 38, 38, 38, 39, 40, 40, 40, 41, 42, 42, 42, 46, 47, 48, 50, 52, 52, 52, 53, 53, 54, 57, 59, 59, 60, 60, 61, 63, 68, 68, 69, 70, 71, 72, 72, 72, 73, 76, 77, 77, 77, 78, 79, 80, 81, 81, 82, 84, 84, 86, 86, 89, 90, 90, 91, 93, 93, 94, 94, 95, 96, 97, 97, 98, 98, 99, 99, 99, 99]\n"
     ]
    }
   ],
   "source": [
    "raw_list = [random.randint(1,100) for _ in range(100)]\n",
    "print('raw_list: ',raw_list)\n",
    "print('='*20)\n",
    "print('sort_list:',insert_sort(raw_list))   "
   ]
  },
  {
   "cell_type": "markdown",
   "metadata": {},
   "source": [
    "我们都知道（在这个可视化中也没有证明，因为它需要花费一个小时的讲座来证明），所有基于比较的排序算法都具有Ω（N log N）的下限时间复杂度。\n",
    "因此，任何具有最坏情况复杂度O（N log N）的基于比较的排序算法（如归并排序）都被认为是最优算法，即我们不能做得比这更好。\n",
    "然而，如果存在输入数组的某些假设，我们可以避免比较这些项目来确定排序顺序， 然后实现更快的排序算法 - 比如在O（N）中"
   ]
  },
  {
   "cell_type": "markdown",
   "metadata": {},
   "source": [
    "# 6. 计数排序"
   ]
  },
  {
   "cell_type": "markdown",
   "metadata": {},
   "source": [
    "时间复杂度为O（N）来计算频率，O（N + k）以排序顺序输出结果，其中 k 是输入的整数范围，在本例中为9-1 + 1 = 9。 计数排序（Counting Sort）的时间复杂度为O（N + k），如果 k 很小，那么它就是O（N）。\n",
    "由于内存限制，当 k 相对较大时，我们将无法执行计数排序（Counting Sort）的计数部分，因为我们需要存储那些 k 个整数出现的次数。"
   ]
  },
  {
   "cell_type": "code",
   "execution_count": 28,
   "metadata": {},
   "outputs": [],
   "source": [
    "def counting_sort(raw_list):\n",
    "    if len(raw_list)<=1:\n",
    "        return raw_list\n",
    "    else:\n",
    "        c_len = len(raw_list)\n",
    "        c_max = max(raw_list)\n",
    "        c_min = min(raw_list)\n",
    "        counting_list_len = c_max - c_min +1\n",
    "        counting_list = [0]*counting_list_len\n",
    "        for value in raw_list:\n",
    "            counting_list[value-c_min] += 1\n",
    "        sorted_list = []\n",
    "        for j in range(counting_list_len):\n",
    "            sorted_list += [c_min+j]*counting_list[j]\n",
    "        return sorted_list           "
   ]
  },
  {
   "cell_type": "code",
   "execution_count": 33,
   "metadata": {},
   "outputs": [
    {
     "name": "stdout",
     "output_type": "stream",
     "text": [
      "raw_list:  [-2, -5, -45, 0, 5, 3, 2, 2]\n",
      "====================\n",
      "sort_list: [-45, -5, -2, 0, 2, 2, 3, 5]\n"
     ]
    }
   ],
   "source": [
    "#raw_list = [random.randint(1,100) for _ in range(100)]\n",
    "raw_list = [-2, -5, -45,0, 5, 3, 2, 2]\n",
    "print('raw_list: ',raw_list)\n",
    "print('='*20)\n",
    "print('sort_list:',counting_sort(raw_list))  "
   ]
  },
  {
   "cell_type": "markdown",
   "metadata": {},
   "source": [
    "# 7. 基数排序"
   ]
  },
  {
   "cell_type": "code",
   "execution_count": 37,
   "metadata": {},
   "outputs": [],
   "source": [
    "def radix_sort(raw_list):\n",
    "    # 这里没有分析len(raw_list)<=1的情况\n",
    "    RADIX = 10\n",
    "    placement = 1\n",
    "    max_num =  max(raw_list)\n",
    "    while placement < max_num:\n",
    "        buckets = [list() for _ in range(RADIX)]   # 生成10个桶装排序的数据  # 放到循环里面！\n",
    "        for value in raw_list:\n",
    "            temp = int((value/placement)%RADIX)\n",
    "            buckets[temp].append(value)\n",
    "        placement *= RADIX\n",
    "        j = 0\n",
    "        for i in range(RADIX):\n",
    "            for b in buckets[i]:\n",
    "                raw_list[j] = b\n",
    "                j += 1            "
   ]
  },
  {
   "cell_type": "code",
   "execution_count": 38,
   "metadata": {},
   "outputs": [
    {
     "name": "stdout",
     "output_type": "stream",
     "text": [
      "raw_list:  [9299, 6708, 435, 9416, 6948, 288, 7834, 6161, 2349, 225]\n",
      "====================\n",
      "sort_list: [225, 288, 435, 2349, 6161, 6708, 6948, 7834, 9299, 9416]\n"
     ]
    }
   ],
   "source": [
    "raw_list = [9299, 6708, 435, 9416, 6948, 288, 7834, 6161, 2349, 225]\n",
    "print('raw_list: ',raw_list)\n",
    "print('='*20)\n",
    "print('sort_list:',counting_sort(raw_list))  "
   ]
  },
  {
   "cell_type": "code",
   "execution_count": null,
   "metadata": {},
   "outputs": [],
   "source": []
  }
 ],
 "metadata": {
  "kernelspec": {
   "display_name": "Python 3",
   "language": "python",
   "name": "python3"
  },
  "language_info": {
   "codemirror_mode": {
    "name": "ipython",
    "version": 3
   },
   "file_extension": ".py",
   "mimetype": "text/x-python",
   "name": "python",
   "nbconvert_exporter": "python",
   "pygments_lexer": "ipython3",
   "version": "3.7.1"
  }
 },
 "nbformat": 4,
 "nbformat_minor": 2
}
